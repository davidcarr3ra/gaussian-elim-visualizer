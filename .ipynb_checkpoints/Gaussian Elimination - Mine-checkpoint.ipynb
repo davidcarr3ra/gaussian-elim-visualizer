{
 "cells": [
  {
   "cell_type": "code",
   "execution_count": 16,
   "metadata": {},
   "outputs": [],
   "source": [
    "import numpy as np"
   ]
  },
  {
   "cell_type": "code",
   "execution_count": 3,
   "metadata": {},
   "outputs": [],
   "source": [
    "np.random.seed(3251)\n",
    "test_matrix = np.random.randint(0, 10, (10,10))\n",
    "rows, columns = test_matrix.shape"
   ]
  },
  {
   "cell_type": "code",
   "execution_count": 4,
   "metadata": {},
   "outputs": [],
   "source": [
    "a = [[1, -4, 1, 0],\n",
    "    [1, 1, -1, 2],\n",
    "    [3, -2, 0, 5]]\n",
    "\n",
    "b = [[1, -4, 1],\n",
    "    [1, 1, -1],\n",
    "    [3, -2, 0]]"
   ]
  },
  {
   "cell_type": "code",
   "execution_count": 17,
   "metadata": {},
   "outputs": [],
   "source": [
    "def EF(input_matrix): # reduces a numpy matrix (2d np.array) to echelon form\n",
    "    input_matrix = input_matrix.astype('float64')\n",
    "    rows, columns = input_matrix.shape\n",
    "    for i in range(rows):\n",
    "        j = i\n",
    "        pivot = 0\n",
    "        \n",
    "        # if the row has all zeros, attempt exchange. otherwise, return matrix\n",
    "        count = i+1\n",
    "        while(not input_matrix[i,:].any()):\n",
    "            if(count == rows):\n",
    "                output_matrix = input_matrix\n",
    "                return output_matrix\n",
    "            # otherwise, swap\n",
    "            temp = input_matrix[i,:].copy()\n",
    "            input_matrix[i,:] = input_matrix[count,:]\n",
    "            input_matrix[count,:] = temp\n",
    "            count += 1\n",
    "        \n",
    "        # if all elements in this column are zero, move to the right.\n",
    "        while(not input_matrix[i:, j].any()):\n",
    "            j += 1\n",
    "        \n",
    "        # choose first nonzero element encountered to be the pivot.\n",
    "        for row in range(i, rows):\n",
    "            if(input_matrix[row, j] == 0):\n",
    "                continue\n",
    "            else:\n",
    "                pivot = input_matrix[row, j]\n",
    "                # swap\n",
    "                temp = input_matrix[row,:].copy()\n",
    "                input_matrix[row,:] = input_matrix[i,:]\n",
    "                input_matrix[i,:] = temp\n",
    "                break\n",
    "        pivot_row = i\n",
    "        row_below = i+1\n",
    "        for i in range(row_below, rows):\n",
    "            multiplier = -input_matrix[i, j]/pivot\n",
    "            # row reduce. replace each element in column below with column above*multiplier + column below\n",
    "            for column in range(columns):\n",
    "                input_matrix[i, column] = input_matrix[i, column] + input_matrix[pivot_row, column]*multiplier\n",
    "    output_matrix = input_matrix\n",
    "    return output_matrix"
   ]
  },
  {
   "cell_type": "code",
   "execution_count": 37,
   "metadata": {},
   "outputs": [],
   "source": [
    "def REF(input_matrix):\n",
    "    ef_matrix = EF(input_matrix)\n",
    "    \n",
    "    # first pivot = leftmost nonzero element of lowest nonzero column. divide that row by pivot.\n",
    "    # start at last row. go up until not all elements in it are zero.\n",
    "    # then move from left to right until the next element is a nonzero. you are at the pivot. divide that row by pivot.\n",
    "    # multiplier, row reduce\n",
    "    # now, move up diagonal (--i, --j). leftmost nonzero element is the next pivot\n",
    "    # repeat until the next pivot is at position 0,0. When that is the case, divide by pivot, return matrix.\n",
    "    \n",
    "    rows, columns = ef_matrix.shape\n",
    "    for i in range(rows-1, -1, -1):\n",
    "        if(not ef_matrix[i,:].any()):\n",
    "            continue\n",
    "        \n",
    "        pivot = 0\n",
    "        j = 0\n",
    "        for j in range(columns):\n",
    "            if(ef_matrix[i, j] != 0):\n",
    "                # reached pivot. Scale to 1\n",
    "                pivot = ef_matrix[i, j]\n",
    "                ef_matrix[i,:] = ef_matrix[i,:]/pivot\n",
    "                break\n",
    "\n",
    "        if(i==0):\n",
    "            output_matrix = ef_matrix\n",
    "            return output_matrix\n",
    "        \n",
    "        # row reduce above\n",
    "        row_above = i-1\n",
    "        for row in range(row_above, -1, -1):\n",
    "            multiplier = -ef_matrix[row_above, j]/ef_matrix[i, j]\n",
    "            for column in range(columns):\n",
    "                ef_matrix[row, column] = ef_matrix[row, column] + ef_matrix[i, column]*multiplier\n",
    "        "
   ]
  },
  {
   "cell_type": "code",
   "execution_count": 31,
   "metadata": {},
   "outputs": [
    {
     "data": {
      "text/plain": [
       "array([[ 1., -4.,  1.],\n",
       "       [ 0.,  5., -2.],\n",
       "       [ 0.,  0.,  1.]])"
      ]
     },
     "execution_count": 31,
     "metadata": {},
     "output_type": "execute_result"
    }
   ],
   "source": [
    "b = [[1, -4, 1],\n",
    "    [1, 1, -1],\n",
    "    [3, -2, 0]]\n",
    "\n",
    "c = [[0, -4, 1],\n",
    "    [1, 1, -1],\n",
    "    [3, -2, 0]]\n",
    "\n",
    "test_matrix = np.array(b)\n",
    "ef = EF(test_matrix)\n",
    "ef"
   ]
  },
  {
   "cell_type": "code",
   "execution_count": 38,
   "metadata": {},
   "outputs": [
    {
     "data": {
      "text/plain": [
       "array([[1., 0., 1.],\n",
       "       [0., 1., 0.],\n",
       "       [0., 0., 1.]])"
      ]
     },
     "execution_count": 38,
     "metadata": {},
     "output_type": "execute_result"
    }
   ],
   "source": [
    "ref = REF(test_matrix)\n",
    "ref"
   ]
  },
  {
   "cell_type": "code",
   "execution_count": 17,
   "metadata": {},
   "outputs": [
    {
     "name": "stdout",
     "output_type": "stream",
     "text": [
      "True\n"
     ]
    }
   ],
   "source": [
    "c = [[0, 0, 1],\n",
    "    [1, 0, -1],\n",
    "    [3, 0, 0]]\n",
    "\n",
    "c = np.array(c)\n",
    "\n",
    "d = np.zeros((3, 3))\n",
    "print(not c[:, 1].any())"
   ]
  },
  {
   "cell_type": "code",
   "execution_count": null,
   "metadata": {},
   "outputs": [],
   "source": []
  },
  {
   "cell_type": "code",
   "execution_count": 68,
   "metadata": {},
   "outputs": [
    {
     "data": {
      "text/plain": [
       "-inf"
      ]
     },
     "execution_count": 68,
     "metadata": {},
     "output_type": "execute_result"
    }
   ],
   "source": [
    "# recursive implementation (easier to implement, but same complexity?)\n",
    "\n"
   ]
  }
 ],
 "metadata": {
  "kernelspec": {
   "display_name": "Python 3",
   "language": "python",
   "name": "python3"
  },
  "language_info": {
   "codemirror_mode": {
    "name": "ipython",
    "version": 3
   },
   "file_extension": ".py",
   "mimetype": "text/x-python",
   "name": "python",
   "nbconvert_exporter": "python",
   "pygments_lexer": "ipython3",
   "version": "3.7.6"
  }
 },
 "nbformat": 4,
 "nbformat_minor": 4
}
